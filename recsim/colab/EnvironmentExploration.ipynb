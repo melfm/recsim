{
 "cells": [
  {
   "cell_type": "markdown",
   "id": "bfc4923d",
   "metadata": {},
   "source": [
    "The **interest exploration** representes a clustered bandit problem: the world consists of some very large number of documents, which cluster into topics (this is a hard clustering -- one topic per document). We further posit that users also cluster into types."
   ]
  },
  {
   "cell_type": "code",
   "execution_count": 8,
   "id": "8116b612",
   "metadata": {},
   "outputs": [],
   "source": [
    "from gym import spaces\n",
    "import numpy as np\n",
    "import matplotlib.pyplot as plt\n",
    "\n",
    "from recsim import choice_model\n",
    "from recsim.simulator import environment\n",
    "from recsim.environments import interest_evolution\n",
    "from recsim.environments import interest_exploration\n",
    "from recsim.environments import long_term_satisfaction\n",
    "from recsim.agents import random_agent"
   ]
  },
  {
   "cell_type": "code",
   "execution_count": 5,
   "id": "1f257723",
   "metadata": {},
   "outputs": [
    {
     "name": "stdout",
     "output_type": "stream",
     "text": [
      "User Observable Features\n",
      "[]\n",
      "User Response\n",
      "None\n",
      "Document Observable Features\n",
      "ID: 15 features: {'quality': array(1.22720163), 'cluster_id': 1}\n",
      "ID: 16 features: {'quality': array(1.29258489), 'cluster_id': 1}\n",
      "ID: 17 features: {'quality': array(1.23977078), 'cluster_id': 1}\n",
      "ID: 18 features: {'quality': array(1.46045555), 'cluster_id': 1}\n",
      "ID: 19 features: {'quality': array(2.10233425), 'cluster_id': 0}\n",
      "ID: 20 features: {'quality': array(1.09572905), 'cluster_id': 1}\n",
      "ID: 21 features: {'quality': array(2.37256963), 'cluster_id': 0}\n",
      "ID: 22 features: {'quality': array(1.34928002), 'cluster_id': 1}\n",
      "ID: 23 features: {'quality': array(1.00670188), 'cluster_id': 1}\n",
      "ID: 24 features: {'quality': array(1.20448562), 'cluster_id': 1}\n",
      "ID: 25 features: {'quality': array(2.18351159), 'cluster_id': 0}\n",
      "ID: 26 features: {'quality': array(1.19411585), 'cluster_id': 1}\n",
      "ID: 27 features: {'quality': array(1.03514646), 'cluster_id': 1}\n",
      "ID: 28 features: {'quality': array(2.29592623), 'cluster_id': 0}\n",
      "ID: 29 features: {'quality': array(2.05936556), 'cluster_id': 0}\n",
      "Document observation space\n",
      "15 : Dict(cluster_id:Discrete(2), quality:Box())\n",
      "16 : Dict(cluster_id:Discrete(2), quality:Box())\n",
      "17 : Dict(cluster_id:Discrete(2), quality:Box())\n",
      "18 : Dict(cluster_id:Discrete(2), quality:Box())\n",
      "19 : Dict(cluster_id:Discrete(2), quality:Box())\n",
      "20 : Dict(cluster_id:Discrete(2), quality:Box())\n",
      "21 : Dict(cluster_id:Discrete(2), quality:Box())\n",
      "22 : Dict(cluster_id:Discrete(2), quality:Box())\n",
      "23 : Dict(cluster_id:Discrete(2), quality:Box())\n",
      "24 : Dict(cluster_id:Discrete(2), quality:Box())\n",
      "25 : Dict(cluster_id:Discrete(2), quality:Box())\n",
      "26 : Dict(cluster_id:Discrete(2), quality:Box())\n",
      "27 : Dict(cluster_id:Discrete(2), quality:Box())\n",
      "28 : Dict(cluster_id:Discrete(2), quality:Box())\n",
      "29 : Dict(cluster_id:Discrete(2), quality:Box())\n",
      "Response observation space\n",
      "Tuple(Dict(click:Discrete(2), cluster_id:Discrete(2), quality:Box()), Dict(click:Discrete(2), cluster_id:Discrete(2), quality:Box()))\n",
      "User observation space\n",
      "Box(0,)\n"
     ]
    }
   ],
   "source": [
    "#############################\n",
    "# Exploration Environment\n",
    "#############################\n",
    "env_config = {'slate_size': 2,\n",
    "              'seed': 0,\n",
    "              'num_candidates': 15,\n",
    "              'resample_documents': True}\n",
    "ie_environment = interest_exploration.create_environment(env_config)\n",
    "initial_observation = ie_environment.reset()\n",
    "\n",
    "print('User Observable Features')\n",
    "print(initial_observation['user'])\n",
    "print('User Response')\n",
    "print(initial_observation['response'])\n",
    "print('Document Observable Features')\n",
    "for doc_id, doc_features in initial_observation['doc'].items():\n",
    "  print('ID:', doc_id, 'features:', doc_features)\n",
    "\n",
    "\n",
    "print('Document observation space')\n",
    "for key, space in ie_environment.observation_space['doc'].spaces.items():\n",
    "  print(key, ':', space)\n",
    "print('Response observation space')\n",
    "print(ie_environment.observation_space['response'])\n",
    "print('User observation space')\n",
    "print(ie_environment.observation_space['user'])"
   ]
  },
  {
   "cell_type": "markdown",
   "id": "156f37af",
   "metadata": {},
   "source": [
    "## Observations\n",
    "\n",
    "A RecSim observation is a dictionary with 3 keys: \n",
    "* 'user', which represent the 'User Observable Features' in the structure diagram above,\n",
    "* 'doc', containing the current corpus of recommendable documents and their observable features ('Document Observable Features'),\n",
    "* and 'response', indicating the user's response to the last slate of recommendations ('User Response')."
   ]
  },
  {
   "cell_type": "code",
   "execution_count": 6,
   "id": "a10b7951",
   "metadata": {},
   "outputs": [
    {
     "name": "stdout",
     "output_type": "stream",
     "text": [
      "('15', {'quality': array(1.22720163), 'cluster_id': 1})\n",
      "('16', {'quality': array(1.29258489), 'cluster_id': 1})\n",
      "Environment action space  MultiDiscrete([15 15])\n",
      "Explor: Recommended slate  [1, 6]\n",
      "Explor: Recommended slate  [2, 4]\n",
      "Explor: Recommended slate  [4, 12]\n"
     ]
    }
   ],
   "source": [
    "slate = [0, 1]\n",
    "for slate_doc in slate:\n",
    "  print(list(initial_observation['doc'].items())[slate_doc])\n",
    "\n",
    "observation, reward, done, _ = ie_environment.step(slate)\n",
    "\n",
    "env_act_space = ie_environment.action_space\n",
    "print('Environment action space ', env_act_space)\n",
    "# Create a random agent\n",
    "num_candidates = env_config['num_candidates']\n",
    "slate_size = env_config['slate_size']\n",
    "action_space = spaces.MultiDiscrete(num_candidates * np.ones((slate_size,)))\n",
    "agent = random_agent.RandomAgent(action_space, random_seed=0)\n",
    "\n",
    "# Stepping into environment and agent are not the same!\n",
    "# This is a bandit step.\n",
    "slate = agent.step(reward, observation)\n",
    "print('Explor: Recommended slate ', slate)\n",
    "slate = agent.step(reward, observation)\n",
    "print('Explor: Recommended slate ', slate)\n",
    "slate = agent.step(reward, observation)\n",
    "print('Explor: Recommended slate ', slate)"
   ]
  },
  {
   "cell_type": "markdown",
   "id": "0298773f",
   "metadata": {},
   "source": [
    "The **evolution exploration** ..."
   ]
  },
  {
   "cell_type": "code",
   "execution_count": 11,
   "id": "ce13f9cf",
   "metadata": {},
   "outputs": [
    {
     "name": "stdout",
     "output_type": "stream",
     "text": [
      "Evolution: Recommended slate  [2, 0]\n",
      "Evolution: Recommended slate  [0, 2]\n"
     ]
    }
   ],
   "source": [
    "#############################\n",
    "# Evolution Environment\n",
    "#############################\n",
    "# Create a candidate_set with 5 items\n",
    "# Create a simple user\n",
    "slate_size = 2\n",
    "user_model = interest_evolution.IEvUserModel(\n",
    "    slate_size,\n",
    "    choice_model_ctor=choice_model.MultinomialLogitChoiceModel,\n",
    "    response_model_ctor=interest_evolution.IEvResponse)\n",
    "\n",
    "num_candidates = 5\n",
    "document_sampler = interest_evolution.IEvVideoSampler()\n",
    "ievsim = environment.Environment(user_model, document_sampler,\n",
    "                                    num_candidates, slate_size)\n",
    "\n",
    "# Create agent\n",
    "action_space = spaces.MultiDiscrete(num_candidates * np.ones((slate_size,)))\n",
    "agent = random_agent.RandomAgent(action_space, random_seed=0)\n",
    "\n",
    "# This agent doesn't use the previous user response\n",
    "observation, documents = ievsim.reset()\n",
    "slate = agent.step(1, dict(user=observation, doc=documents))\n",
    "print('Evolution: Recommended slate ', slate)\n",
    "slate = agent.step(1, dict(user=observation, doc=documents))\n",
    "print('Evolution: Recommended slate ', slate)"
   ]
  },
  {
   "cell_type": "markdown",
   "id": "b0f798e9",
   "metadata": {},
   "source": [
    "The **Long term satisfaction** (Choc/Kale) environment."
   ]
  },
  {
   "cell_type": "code",
   "execution_count": 15,
   "id": "e1dd059d",
   "metadata": {},
   "outputs": [],
   "source": [
    "env_config = {'slate_size': 3,\n",
    "              'seed': 0,\n",
    "              'num_candidates': 5,\n",
    "              'resample_documents': True}\n",
    "\n",
    "lts_gym_env = long_term_satisfaction.create_environment(env_config)"
   ]
  },
  {
   "cell_type": "code",
   "execution_count": 16,
   "id": "38e97910",
   "metadata": {},
   "outputs": [
    {
     "name": "stdout",
     "output_type": "stream",
     "text": [
      "Observation 0\n",
      "Available documents\n",
      "doc_id 5 kaleness [0.64589411]\n",
      "doc_id 6 kaleness [0.43758721]\n",
      "doc_id 7 kaleness [0.891773]\n",
      "doc_id 8 kaleness [0.96366276]\n",
      "doc_id 9 kaleness [0.38344152]\n",
      "Noisy user state observation\n",
      "[]\n",
      "Observation 1\n",
      "Available documents\n",
      "doc_id 10 kaleness [0.79172504]\n",
      "doc_id 11 kaleness [0.52889492]\n",
      "doc_id 12 kaleness [0.56804456]\n",
      "doc_id 13 kaleness [0.92559664]\n",
      "doc_id 14 kaleness [0.07103606]\n",
      "User responses to documents in the slate\n",
      "{'click': 1, 'engagement': 6.470111094743702}\n",
      "{'click': 0, 'engagement': 0.0}\n",
      "{'click': 0, 'engagement': 0.0}\n",
      "Noisy user state observation\n",
      "[]\n"
     ]
    }
   ],
   "source": [
    "observation_0 = lts_gym_env.reset()\n",
    "print('Observation 0')\n",
    "print('Available documents')\n",
    "doc_strings = ['doc_id ' + key + \" kaleness \" + str(value) for key, value\n",
    "               in observation_0['doc'].items()]\n",
    "print('\\n'.join(doc_strings))\n",
    "print('Noisy user state observation')\n",
    "print(observation_0['user'])\n",
    "# Agent recommends the first three documents.\n",
    "recommendation_slate_0 = [0, 1, 2]\n",
    "observation_1, reward, done, _ = lts_gym_env.step(recommendation_slate_0)\n",
    "print('Observation 1')\n",
    "print('Available documents')\n",
    "doc_strings = ['doc_id ' + key + \" kaleness \" + str(value) for key, value\n",
    "               in observation_1['doc'].items()]\n",
    "print('\\n'.join(doc_strings))\n",
    "rsp_strings = [str(response) for response in observation_1['response']]\n",
    "print('User responses to documents in the slate')\n",
    "print('\\n'.join(rsp_strings))\n",
    "print('Noisy user state observation')\n",
    "print(observation_1['user'])"
   ]
  },
  {
   "cell_type": "code",
   "execution_count": null,
   "id": "a9ece422",
   "metadata": {},
   "outputs": [],
   "source": []
  }
 ],
 "metadata": {
  "kernelspec": {
   "display_name": "Python 3",
   "language": "python",
   "name": "python3"
  },
  "language_info": {
   "codemirror_mode": {
    "name": "ipython",
    "version": 3
   },
   "file_extension": ".py",
   "mimetype": "text/x-python",
   "name": "python",
   "nbconvert_exporter": "python",
   "pygments_lexer": "ipython3",
   "version": "3.8.8"
  }
 },
 "nbformat": 4,
 "nbformat_minor": 5
}
